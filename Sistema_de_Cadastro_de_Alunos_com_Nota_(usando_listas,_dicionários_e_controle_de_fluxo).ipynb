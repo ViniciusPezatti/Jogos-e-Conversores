{
  "nbformat": 4,
  "nbformat_minor": 0,
  "metadata": {
    "colab": {
      "provenance": [],
      "authorship_tag": "ABX9TyPZdQsQ2i3GLh5Qrii6y+QK",
      "include_colab_link": true
    },
    "kernelspec": {
      "name": "python3",
      "display_name": "Python 3"
    },
    "language_info": {
      "name": "python"
    }
  },
  "cells": [
    {
      "cell_type": "markdown",
      "metadata": {
        "id": "view-in-github",
        "colab_type": "text"
      },
      "source": [
        "<a href=\"https://colab.research.google.com/github/ViniciusPezatti/Jogos-e-Conversores/blob/main/Sistema_de_Cadastro_de_Alunos_com_Nota_(usando_listas%2C_dicion%C3%A1rios_e_controle_de_fluxo).ipynb\" target=\"_parent\"><img src=\"https://colab.research.google.com/assets/colab-badge.svg\" alt=\"Open In Colab\"/></a>"
      ]
    },
    {
      "cell_type": "markdown",
      "source": [
        "#Objetivo:\n",
        "\n",
        "Criar um sistema de cadastro de alunos onde o usuário pode adicionar vários alunos com suas respectivas notas e, ao final, o sistema deve calcular a média das notas de cada aluno, exibir quem está aprovado e quem está reprovado, além de permitir que o usuário visualize a lista de alunos e suas médias.\n",
        "\n",
        "\n",
        "#Desafio:\n",
        "\n",
        "Utilizar listas e dicionários para armazenar dados. Implementar uma função que verifica a situação do aluno (aprovado ou reprovado) com base na média das notas, e permitir que o sistema calcule a média de várias notas para cada aluno."
      ],
      "metadata": {
        "id": "ZgjnZNSGCwKl"
      }
    },
    {
      "cell_type": "code",
      "execution_count": 2,
      "metadata": {
        "colab": {
          "base_uri": "https://localhost:8080/"
        },
        "id": "e0XQzWUGCoNj",
        "outputId": "ebf77926-80e3-4839-aebb-4561c53826ca"
      },
      "outputs": [
        {
          "output_type": "stream",
          "name": "stdout",
          "text": [
            "\n",
            "📚 Cadastro de Aluno 📚\n",
            "Digite o nome do aluno (ou 'sair' para encerrar): Vinicius\n",
            "Digite a nota da 1ª prova: 10\n",
            "Digite a nota da 2ª prova: 8\n",
            "Digite a nota da 3ª prova: 7\n",
            "Digite a nota da 4ª prova: 9\n",
            "\n",
            "📚 Cadastro de Aluno 📚\n",
            "Digite o nome do aluno (ou 'sair' para encerrar): Fabíola\n",
            "Digite a nota da 1ª prova: 8\n",
            "Digite a nota da 2ª prova: 9\n",
            "Digite a nota da 3ª prova: 5\n",
            "Digite a nota da 4ª prova: 7\n",
            "\n",
            "📚 Cadastro de Aluno 📚\n",
            "Digite o nome do aluno (ou 'sair' para encerrar): Ana Júlia\n",
            "Digite a nota da 1ª prova: 8\n",
            "Digite a nota da 2ª prova: 5\n",
            "Digite a nota da 3ª prova: 7\n",
            "Digite a nota da 4ª prova: 9\n",
            "\n",
            "📚 Cadastro de Aluno 📚\n",
            "Digite o nome do aluno (ou 'sair' para encerrar): Mariana\n",
            "Digite a nota da 1ª prova: 9\n",
            "Digite a nota da 2ª prova: 8\n",
            "Digite a nota da 3ª prova: 9\n",
            "Digite a nota da 4ª prova: 6\n",
            "\n",
            "📚 Cadastro de Aluno 📚\n",
            "Digite o nome do aluno (ou 'sair' para encerrar): sair\n",
            "\n",
            "📊 Resultado Final 📊\n",
            "============================================================\n",
            "Nome            Prova 1 Prova 2 Prova 3 Prova 4   Média       Situação\n",
            "============================================================\n",
            "Vinicius           10.0     8.0     7.0     9.0     8.5       Aprovado\n",
            "Fabíola             8.0     9.0     5.0     7.0     7.2       Aprovado\n",
            "Ana Júlia           8.0     5.0     7.0     9.0     7.2       Aprovado\n",
            "Mariana             9.0     8.0     9.0     6.0     8.0       Aprovado\n",
            "============================================================\n",
            "📌 Legenda: Aprovado (Média ≥ 7), Recuperação (5 ≤ Média < 7), Reprovado (Média < 5)\n",
            "============================================================\n"
          ]
        }
      ],
      "source": [
        "def cadastrar_alunos():\n",
        "    alunos = []\n",
        "\n",
        "    while True:\n",
        "        print(\"\\n📚 Cadastro de Aluno 📚\")\n",
        "        nome = input(\"Digite o nome do aluno (ou 'sair' para encerrar): \").strip()\n",
        "        if nome.lower() == 'sair':\n",
        "            break\n",
        "\n",
        "        notas = []\n",
        "        for i in range(1, 5):\n",
        "            while True:\n",
        "                try:\n",
        "                    nota = float(input(f\"Digite a nota da {i}ª prova: \"))\n",
        "                    if 0 <= nota <= 10:\n",
        "                        notas.append(nota)\n",
        "                        break\n",
        "                    else:\n",
        "                        print(\"⚠️ Nota inválida! Digite um valor entre 0 e 10.\")\n",
        "                except ValueError:\n",
        "                    print(\"⚠️ Entrada inválida! Digite um número.\")\n",
        "\n",
        "        media = sum(notas) / 4  # Calcula a média\n",
        "        situacao = (\n",
        "            \"Aprovado\" if media >= 7\n",
        "            else \"Recuperação\" if media >= 5\n",
        "            else \"Reprovado\"\n",
        "        )\n",
        "\n",
        "        aluno = {\n",
        "            \"Nome\": nome,\n",
        "            \"Notas\": notas,\n",
        "            \"Média\": media,\n",
        "            \"Situação\": situacao\n",
        "        }\n",
        "\n",
        "        alunos.append(aluno)\n",
        "\n",
        "    exibir_resultados(alunos)\n",
        "\n",
        "\n",
        "def exibir_resultados(alunos):\n",
        "    print(\"\\n📊 Resultado Final 📊\")\n",
        "    print(\"=\" * 60)\n",
        "    print(f\"{'Nome':<15}{'Prova 1':>8}{'Prova 2':>8}{'Prova 3':>8}{'Prova 4':>8}{'Média':>8}{'Situação':>15}\")\n",
        "    print(\"=\" * 60)\n",
        "\n",
        "    for aluno in alunos:\n",
        "        print(f\"{aluno['Nome']:<15}{aluno['Notas'][0]:>8.1f}{aluno['Notas'][1]:>8.1f}{aluno['Notas'][2]:>8.1f}{aluno['Notas'][3]:>8.1f}{aluno['Média']:>8.1f}{aluno['Situação']:>15}\")\n",
        "\n",
        "    print(\"=\" * 60)\n",
        "    print(\"📌 Legenda: Aprovado (Média ≥ 7), Recuperação (5 ≤ Média < 7), Reprovado (Média < 5)\")\n",
        "    print(\"=\" * 60)\n",
        "\n",
        "\n",
        "cadastrar_alunos()\n"
      ]
    },
    {
      "cell_type": "code",
      "source": [],
      "metadata": {
        "id": "06qzxaH3GKrF"
      },
      "execution_count": null,
      "outputs": []
    }
  ]
}