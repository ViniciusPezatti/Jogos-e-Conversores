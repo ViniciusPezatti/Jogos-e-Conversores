{
  "nbformat": 4,
  "nbformat_minor": 0,
  "metadata": {
    "colab": {
      "provenance": [],
      "authorship_tag": "ABX9TyOb5Cp4xtdU4xZmtx4pCll6",
      "include_colab_link": true
    },
    "kernelspec": {
      "name": "python3",
      "display_name": "Python 3"
    },
    "language_info": {
      "name": "python"
    }
  },
  "cells": [
    {
      "cell_type": "markdown",
      "metadata": {
        "id": "view-in-github",
        "colab_type": "text"
      },
      "source": [
        "<a href=\"https://colab.research.google.com/github/ViniciusPezatti/Jogos-e-Conversores/blob/main/Sistema_de_Cadastro_de_Alunos_com_Nota_(usando_listas%2C_dicion%C3%A1rios_e_controle_de_fluxo).ipynb\" target=\"_parent\"><img src=\"https://colab.research.google.com/assets/colab-badge.svg\" alt=\"Open In Colab\"/></a>"
      ]
    },
    {
      "cell_type": "markdown",
      "source": [
        "#Objetivo:\n",
        "\n",
        "Criar um sistema de cadastro de alunos onde o usuário pode adicionar vários alunos com suas respectivas notas e, ao final, o sistema deve calcular a média das notas de cada aluno, exibir quem está aprovado e quem está reprovado, além de permitir que o usuário visualize a lista de alunos e suas médias.\n",
        "\n",
        "\n",
        "#Desafio:\n",
        "\n",
        "Utilizar listas e dicionários para armazenar dados. Implementar uma função que verifica a situação do aluno (aprovado ou reprovado) com base na média das notas, e permitir que o sistema calcule a média de várias notas para cada aluno."
      ],
      "metadata": {
        "id": "ZgjnZNSGCwKl"
      }
    },
    {
      "cell_type": "code",
      "execution_count": 1,
      "metadata": {
        "colab": {
          "base_uri": "https://localhost:8080/"
        },
        "id": "e0XQzWUGCoNj",
        "outputId": "f60e3e0f-2946-44c6-e5a6-9bfc337cfd17"
      },
      "outputs": [
        {
          "output_type": "stream",
          "name": "stdout",
          "text": [
            "Digite o nome do aluno (ou 'sair' para finalizar): Vinicius\n",
            "Digite a nota de Vinicius (ou -1 para parar): 10\n",
            "Digite a nota de Vinicius (ou -1 para parar): 8\n",
            "Digite a nota de Vinicius (ou -1 para parar): 9\n",
            "Digite a nota de Vinicius (ou -1 para parar): 7\n",
            "Digite a nota de Vinicius (ou -1 para parar): -1\n",
            "Digite o nome do aluno (ou 'sair' para finalizar): Fabíola\n",
            "Digite a nota de Fabíola (ou -1 para parar): 8\n",
            "Digite a nota de Fabíola (ou -1 para parar): 9\n",
            "Digite a nota de Fabíola (ou -1 para parar): 10\n",
            "Digite a nota de Fabíola (ou -1 para parar): 7\n",
            "Digite a nota de Fabíola (ou -1 para parar): -1\n",
            "Digite o nome do aluno (ou 'sair' para finalizar): Ana Júlia\n",
            "Digite a nota de Ana Júlia (ou -1 para parar): 6\n",
            "Digite a nota de Ana Júlia (ou -1 para parar): 8\n",
            "Digite a nota de Ana Júlia (ou -1 para parar): 7\n",
            "Digite a nota de Ana Júlia (ou -1 para parar): 9\n",
            "Digite a nota de Ana Júlia (ou -1 para parar): -1\n",
            "Digite o nome do aluno (ou 'sair' para finalizar): MAriana\n",
            "Digite a nota de MAriana (ou -1 para parar): 6\n",
            "Digite a nota de MAriana (ou -1 para parar): 7\n",
            "Digite a nota de MAriana (ou -1 para parar): 9\n",
            "Digite a nota de MAriana (ou -1 para parar): 10\n",
            "Digite a nota de MAriana (ou -1 para parar): -1\n",
            "Digite o nome do aluno (ou 'sair' para finalizar): sair\n",
            "\n",
            "Relatório de Alunos:\n",
            "\n",
            "Aluno: Vinicius\n",
            "Notas: [10.0, 8.0, 9.0, 7.0]\n",
            "Média: 8.50\n",
            "Situação: Aprovado\n",
            "\n",
            "Aluno: Fabíola\n",
            "Notas: [8.0, 9.0, 10.0, 7.0]\n",
            "Média: 8.50\n",
            "Situação: Aprovado\n",
            "\n",
            "Aluno: Ana Júlia\n",
            "Notas: [6.0, 8.0, 7.0, 9.0]\n",
            "Média: 7.50\n",
            "Situação: Aprovado\n",
            "\n",
            "Aluno: MAriana\n",
            "Notas: [6.0, 7.0, 9.0, 10.0]\n",
            "Média: 8.00\n",
            "Situação: Aprovado\n"
          ]
        }
      ],
      "source": [
        "def sistema_cadastro_alunos():\n",
        "    alunos = {}\n",
        "\n",
        "    while True:\n",
        "        nome = input(\"Digite o nome do aluno (ou 'sair' para finalizar): \")\n",
        "        if nome.lower() == 'sair':\n",
        "            break\n",
        "\n",
        "        notas = []\n",
        "        while True:\n",
        "            try:\n",
        "                nota = float(input(f\"Digite a nota de {nome} (ou -1 para parar): \"))\n",
        "                if nota == -1:\n",
        "                    break\n",
        "                elif 0 <= nota <= 10:\n",
        "                    notas.append(nota)\n",
        "                else:\n",
        "                    print(\"Nota inválida, digite uma nota entre 0 e 10.\")\n",
        "            except ValueError:\n",
        "                print(\"Por favor, insira um número válido.\")\n",
        "\n",
        "        alunos[nome] = notas\n",
        "\n",
        "    print(\"\\nRelatório de Alunos:\")\n",
        "    for nome, notas in alunos.items():\n",
        "        media = sum(notas) / len(notas)\n",
        "        situacao = \"Aprovado\" if media >= 7 else \"Reprovado\"\n",
        "        print(f\"\\nAluno: {nome}\\nNotas: {notas}\\nMédia: {media:.2f}\\nSituação: {situacao}\")\n",
        "\n",
        "sistema_cadastro_alunos()\n"
      ]
    },
    {
      "cell_type": "code",
      "source": [],
      "metadata": {
        "id": "06qzxaH3GKrF"
      },
      "execution_count": null,
      "outputs": []
    }
  ]
}