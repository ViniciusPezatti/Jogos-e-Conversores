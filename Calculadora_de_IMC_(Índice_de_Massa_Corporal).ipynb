{
  "nbformat": 4,
  "nbformat_minor": 0,
  "metadata": {
    "colab": {
      "provenance": [],
      "authorship_tag": "ABX9TyMzBFPNGVs8DXFcZqDI5V6z",
      "include_colab_link": true
    },
    "kernelspec": {
      "name": "python3",
      "display_name": "Python 3"
    },
    "language_info": {
      "name": "python"
    }
  },
  "cells": [
    {
      "cell_type": "markdown",
      "metadata": {
        "id": "view-in-github",
        "colab_type": "text"
      },
      "source": [
        "<a href=\"https://colab.research.google.com/github/ViniciusPezatti/Jogos-e-Conversores/blob/main/Calculadora_de_IMC_(%C3%8Dndice_de_Massa_Corporal).ipynb\" target=\"_parent\"><img src=\"https://colab.research.google.com/assets/colab-badge.svg\" alt=\"Open In Colab\"/></a>"
      ]
    },
    {
      "cell_type": "markdown",
      "source": [
        "Explicação:\n",
        "\n",
        "O código calcula o IMC com base na fórmula tradicional: peso / altura².\n",
        "\n",
        "Após calcular o IMC, o código classifica o valor em categorias de saúde (baixo peso, peso normal, etc.).\n",
        "\n",
        "Ideal para iniciantes que estão praticando operações matemáticas, condicionais e entrada de dados do usuário."
      ],
      "metadata": {
        "id": "5LZXbnUuMjRT"
      }
    },
    {
      "cell_type": "code",
      "source": [
        "def calculadora_imc():\n",
        "    print(\"Calculadora de IMC\")\n",
        "\n",
        "    # Solicita peso e altura ao usuário\n",
        "    peso = float(input(\"Digite seu peso em kg: \"))\n",
        "    altura = float(input(\"Digite sua altura em centímetros: \"))\n",
        "\n",
        "    # Converte a altura para metros e calcula o IMC\n",
        "    imc = peso / (altura / 100) ** 2\n",
        "    print(f\"Seu IMC é: {imc:.2f}\")\n",
        "\n",
        "    # Calcula o peso ideal (IMC de 24.9)\n",
        "    peso_ideal = 24.9 * (altura / 100) ** 2\n",
        "\n",
        "    # Classifica o IMC e fornece feedback\n",
        "    if imc < 18.5:\n",
        "        print(\"Classificação: Abaixo do peso\")\n",
        "        print(f\"Seu peso ideal é: {peso_ideal:.2f} kg\")\n",
        "        print(\"IMC ideal deve estar entre 18.5 e 24.9.\")\n",
        "    elif 18.5 <= imc < 24.9:\n",
        "        print(\"Classificação: Peso normal\")\n",
        "        print(\"Parabéns! Você está no IMC ideal.\")\n",
        "    elif 25 <= imc < 29.9:\n",
        "        print(\"Classificação: Sobrepeso\")\n",
        "        print(f\"Seu peso ideal é: {peso_ideal:.2f} kg\")\n",
        "        print(\"IMC ideal deve estar entre 18.5 e 24.9.\")\n",
        "    else:\n",
        "        print(\"Classificação: Obesidade\")\n",
        "        print(f\"Seu peso ideal é: {peso_ideal:.2f} kg\")\n",
        "        print(\"IMC ideal deve estar entre 18.5 e 24.9.\")\n",
        "\n",
        "calculadora_imc()\n"
      ],
      "metadata": {
        "colab": {
          "base_uri": "https://localhost:8080/"
        },
        "id": "ogrWxX0CMYqg",
        "outputId": "c664bb7b-d08e-4f57-81a4-f83904346964"
      },
      "execution_count": 9,
      "outputs": [
        {
          "output_type": "stream",
          "name": "stdout",
          "text": [
            "Calculadora de IMC\n",
            "Digite seu peso em kg: 125\n",
            "Digite sua altura em centímetros: 175\n",
            "Seu IMC é: 40.82\n",
            "Classificação: Obesidade\n",
            "Seu peso ideal é: 76.26 kg\n",
            "IMC ideal deve estar entre 18.5 e 24.9.\n"
          ]
        }
      ]
    },
    {
      "cell_type": "code",
      "source": [],
      "metadata": {
        "id": "Hb988cwqQdDW"
      },
      "execution_count": null,
      "outputs": []
    }
  ]
}