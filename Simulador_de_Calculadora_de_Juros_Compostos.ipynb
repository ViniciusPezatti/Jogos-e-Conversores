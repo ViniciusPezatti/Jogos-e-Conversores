{
  "nbformat": 4,
  "nbformat_minor": 0,
  "metadata": {
    "colab": {
      "provenance": [],
      "authorship_tag": "ABX9TyNtGs6mC6ntf4lPA4LmAMrO",
      "include_colab_link": true
    },
    "kernelspec": {
      "name": "python3",
      "display_name": "Python 3"
    },
    "language_info": {
      "name": "python"
    }
  },
  "cells": [
    {
      "cell_type": "markdown",
      "metadata": {
        "id": "view-in-github",
        "colab_type": "text"
      },
      "source": [
        "<a href=\"https://colab.research.google.com/github/ViniciusPezatti/Jogos-e-Conversores/blob/main/Simulador_de_Calculadora_de_Juros_Compostos.ipynb\" target=\"_parent\"><img src=\"https://colab.research.google.com/assets/colab-badge.svg\" alt=\"Open In Colab\"/></a>"
      ]
    },
    {
      "cell_type": "markdown",
      "source": [
        "#Objetivo:\n",
        "\n",
        "Criar uma calculadora de juros compostos, onde o usuário fornece o valor inicial, a taxa de juros anual e o tempo em anos, e o programa calcula o valor final após os juros.\n",
        "\n",
        "\n",
        "#Desafio:\n",
        "\n",
        "O programa deve solicitar ao usuário o valor inicial, a taxa de juros anual e o tempo em anos, e exibir o valor final após a aplicação dos juros compostos."
      ],
      "metadata": {
        "id": "pCxUZS6v6W9F"
      }
    },
    {
      "cell_type": "code",
      "execution_count": 11,
      "metadata": {
        "colab": {
          "base_uri": "https://localhost:8080/"
        },
        "id": "uXWPNW136RL_",
        "outputId": "54c290e8-f14a-4a95-ba1f-1d94b8a1cad5"
      },
      "outputs": [
        {
          "output_type": "stream",
          "name": "stdout",
          "text": [
            "💰 Simulador de Juros Compostos 💰\n",
            "\n",
            "Escolha qual item deseja calcular:\n",
            "1 - Taxa de Juros (%)\n",
            "2 - Período (meses)\n",
            "3 - Valor Inicial\n",
            "4 - Valor da Parcela\n",
            "Digite o número correspondente: 1\n",
            "Digite o valor da parcela (R$): 600\n",
            "Digite o período (em meses): 60\n",
            "Digite o valor inicial (R$): 15000\n",
            "\n",
            "📊 Resultado:\n",
            "\n",
            "Item                     Valor\n",
            "=============================================\n",
            "Taxa de Juros         3.49%\n",
            "Período (meses)           60\n",
            "Valor Inicial       R$ 15000.00\n",
            "Valor da Parcela    R$   600.00\n",
            "Valor Final         R$ 36000.00\n"
          ]
        }
      ],
      "source": [
        "import math\n",
        "\n",
        "def calcular_juros_compostos():\n",
        "    print(\"💰 Simulador de Juros Compostos 💰\\n\")\n",
        "\n",
        "    print(\"Escolha qual item deseja calcular:\")\n",
        "    print(\"1 - Taxa de Juros (%)\")\n",
        "    print(\"2 - Período (meses)\")\n",
        "    print(\"3 - Valor Inicial\")\n",
        "    print(\"4 - Valor da Parcela\")\n",
        "\n",
        "    escolha = int(input(\"Digite o número correspondente: \"))\n",
        "\n",
        "    if escolha == 1:\n",
        "        # Calcular a taxa de juros\n",
        "        valor_parcela = float(input(\"Digite o valor da parcela (R$): \"))\n",
        "        periodo = int(input(\"Digite o período (em meses): \"))\n",
        "        valor_inicial = float(input(\"Digite o valor inicial (R$): \"))\n",
        "\n",
        "        # Método numérico para encontrar a taxa de juros (tentativa e erro)\n",
        "        i = 0.01  # Chute inicial de 1%\n",
        "        for _ in range(1000):  # Iterações para melhorar a precisão\n",
        "            f = valor_parcela - (valor_inicial * i) / (1 - (1 + i) ** -periodo)\n",
        "            df = (valor_inicial * ((1 + i) ** -periodo - 1) + valor_inicial * i * periodo * (1 + i) ** (-periodo - 1)) / ((1 - (1 + i) ** -periodo) ** 2)\n",
        "            i -= f / df  # Método de Newton-Raphson\n",
        "\n",
        "            if abs(f) < 1e-6:  # Convergência\n",
        "                break\n",
        "\n",
        "        taxa = i * 100  # Converter para porcentagem\n",
        "\n",
        "    elif escolha == 2:\n",
        "        # Calcular o período\n",
        "        valor_parcela = float(input(\"Digite o valor da parcela (R$): \"))\n",
        "        taxa = float(input(\"Digite a taxa de juros mensal (%): \")) / 100\n",
        "        valor_inicial = float(input(\"Digite o valor inicial (R$): \"))\n",
        "\n",
        "        periodo = math.log(1 - (taxa * valor_inicial) / valor_parcela) / math.log(1 + taxa)\n",
        "\n",
        "    elif escolha == 3:\n",
        "        # Calcular o valor inicial\n",
        "        valor_parcela = float(input(\"Digite o valor da parcela (R$): \"))\n",
        "        taxa = float(input(\"Digite a taxa de juros mensal (%): \")) / 100\n",
        "        periodo = int(input(\"Digite o período (em meses): \"))\n",
        "\n",
        "        valor_inicial = valor_parcela * ((1 - (1 + taxa) ** -periodo) / taxa)\n",
        "\n",
        "    elif escolha == 4:\n",
        "        # Calcular o valor da parcela\n",
        "        taxa = float(input(\"Digite a taxa de juros mensal (%): \")) / 100\n",
        "        periodo = int(input(\"Digite o período (em meses): \"))\n",
        "        valor_inicial = float(input(\"Digite o valor inicial (R$): \"))\n",
        "\n",
        "        valor_parcela = (valor_inicial * taxa) / (1 - (1 + taxa) ** -periodo)\n",
        "\n",
        "    else:\n",
        "        print(\"Opção inválida! Escolha um número de 1 a 4.\")\n",
        "        return  # Encerra a função se a opção for inválida\n",
        "\n",
        "    # Calcula o valor final total\n",
        "    valor_final = valor_parcela * periodo\n",
        "\n",
        "    # Exibir os resultados em formato de tabela\n",
        "    print(\"\\n📊 Resultado:\\n\")\n",
        "    print(f\"{'Item':<20}{'Valor':>10}\")\n",
        "    print(\"=\" * 45)\n",
        "    print(f\"{'Taxa de Juros':<20}{taxa:>6.2f}%\")\n",
        "    print(f\"{'Período (meses)':<20}{int(periodo):>8}\")\n",
        "    print(f\"{'Valor Inicial':<20}R$ {valor_inicial:>8.2f}\")\n",
        "    print(f\"{'Valor da Parcela':<20}R$ {valor_parcela:>8.2f}\")\n",
        "    print(f\"{'Valor Final':<20}R$ {valor_final:>8.2f}\")\n",
        "\n",
        "calcular_juros_compostos()\n"
      ]
    },
    {
      "cell_type": "code",
      "source": [],
      "metadata": {
        "id": "aKD7O1Hk6lyG"
      },
      "execution_count": null,
      "outputs": []
    }
  ]
}