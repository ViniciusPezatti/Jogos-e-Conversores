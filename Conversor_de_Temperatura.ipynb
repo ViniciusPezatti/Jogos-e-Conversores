{
  "nbformat": 4,
  "nbformat_minor": 0,
  "metadata": {
    "colab": {
      "provenance": [],
      "authorship_tag": "ABX9TyNdTdRKC6B1qxaxnSsTMoRQ",
      "include_colab_link": true
    },
    "kernelspec": {
      "name": "python3",
      "display_name": "Python 3"
    },
    "language_info": {
      "name": "python"
    }
  },
  "cells": [
    {
      "cell_type": "markdown",
      "metadata": {
        "id": "view-in-github",
        "colab_type": "text"
      },
      "source": [
        "<a href=\"https://colab.research.google.com/github/ViniciusPezatti/Jogos-e-Conversores/blob/main/Conversor_de_Temperatura.ipynb\" target=\"_parent\"><img src=\"https://colab.research.google.com/assets/colab-badge.svg\" alt=\"Open In Colab\"/></a>"
      ]
    },
    {
      "cell_type": "markdown",
      "source": [
        "Explicação:\n",
        "\n",
        "Esse código permite a conversão entre diferentes escalas de temperatura, ideal para quem está praticando operações matemáticas e condicionais.\n",
        "Perfeito para quem está aprendendo a trabalhar com funções e entradas do usuário.\n"
      ],
      "metadata": {
        "id": "5LZXbnUuMjRT"
      }
    },
    {
      "cell_type": "code",
      "execution_count": 2,
      "metadata": {
        "colab": {
          "base_uri": "https://localhost:8080/"
        },
        "id": "NR7TElUSMVGf",
        "outputId": "16ac9dad-d1f1-49f6-f5bf-abcadb045c20"
      },
      "outputs": [
        {
          "output_type": "stream",
          "name": "stdout",
          "text": [
            "Conversor de Temperatura\n",
            "Escolha a conversão:\n",
            "1. Celsius para Fahrenheit\n",
            "2. Fahrenheit para Celsius\n",
            "3. Celsius para Kelvin\n",
            "4. Kelvin para Celsius\n",
            "Digite a opção (1/2/3/4): 1\n",
            "Digite a temperatura: 35\n",
            "35.0°C = 95.0°F\n"
          ]
        }
      ],
      "source": [
        "def conversor_temperatura():\n",
        "    print(\"Conversor de Temperatura\")\n",
        "    print(\"Escolha a conversão:\")\n",
        "    print(\"1. Celsius para Fahrenheit\")\n",
        "    print(\"2. Fahrenheit para Celsius\")\n",
        "    print(\"3. Celsius para Kelvin\")\n",
        "    print(\"4. Kelvin para Celsius\")\n",
        "\n",
        "    escolha = input(\"Digite a opção (1/2/3/4): \")\n",
        "\n",
        "    if escolha in ('1', '2', '3', '4'):\n",
        "        temperatura = float(input(\"Digite a temperatura: \"))\n",
        "\n",
        "        if escolha == '1':\n",
        "            print(f\"{temperatura}°C = {((temperatura * 9/5) + 32)}°F\")\n",
        "        elif escolha == '2':\n",
        "            print(f\"{temperatura}°F = {((temperatura - 32) * 5/9)}°C\")\n",
        "        elif escolha == '3':\n",
        "            print(f\"{temperatura}°C = {temperatura + 273.15}K\")\n",
        "        elif escolha == '4':\n",
        "            print(f\"{temperatura}K = {temperatura - 273.15}°C\")\n",
        "    else:\n",
        "        print(\"Opção inválida. Tente novamente.\")\n",
        "\n",
        "conversor_temperatura()\n",
        "\n"
      ]
    },
    {
      "cell_type": "code",
      "source": [],
      "metadata": {
        "id": "ogrWxX0CMYqg"
      },
      "execution_count": null,
      "outputs": []
    }
  ]
}