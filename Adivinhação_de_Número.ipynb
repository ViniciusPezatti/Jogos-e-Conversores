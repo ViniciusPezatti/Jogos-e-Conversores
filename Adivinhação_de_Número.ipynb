{
  "nbformat": 4,
  "nbformat_minor": 0,
  "metadata": {
    "colab": {
      "provenance": [],
      "authorship_tag": "ABX9TyNz/7fWQXjLlMec7bzyy1gR",
      "include_colab_link": true
    },
    "kernelspec": {
      "name": "python3",
      "display_name": "Python 3"
    },
    "language_info": {
      "name": "python"
    }
  },
  "cells": [
    {
      "cell_type": "markdown",
      "metadata": {
        "id": "view-in-github",
        "colab_type": "text"
      },
      "source": [
        "<a href=\"https://colab.research.google.com/github/ViniciusPezatti/Jogos-e-Conversores/blob/main/Adivinha%C3%A7%C3%A3o_de_N%C3%BAmero.ipynb\" target=\"_parent\"><img src=\"https://colab.research.google.com/assets/colab-badge.svg\" alt=\"Open In Colab\"/></a>"
      ]
    },
    {
      "cell_type": "markdown",
      "source": [
        "Explicação:\n",
        "\n",
        "Este código usa a biblioteca random para gerar um número aleatório e permite que o usuário tente adivinhar qual é, com dicas.\n",
        "A prática de loops e condicionais é essencial aqui, e o código é interativo e divertido para iniciantes."
      ],
      "metadata": {
        "id": "5LZXbnUuMjRT"
      }
    },
    {
      "cell_type": "code",
      "execution_count": 3,
      "metadata": {
        "colab": {
          "base_uri": "https://localhost:8080/"
        },
        "id": "NR7TElUSMVGf",
        "outputId": "0c58d4a8-46e2-4032-c0e4-d454a0fb31aa"
      },
      "outputs": [
        {
          "output_type": "stream",
          "name": "stdout",
          "text": [
            "Bem-vindo ao jogo de adivinhação!\n",
            "Adivinhe o número entre 1 e 100: 56\n",
            "O número secreto é menor!\n",
            "Adivinhe o número entre 1 e 100: 32\n",
            "O número secreto é maior!\n",
            "Adivinhe o número entre 1 e 100: 41\n",
            "O número secreto é menor!\n",
            "Adivinhe o número entre 1 e 100: 35\n",
            "O número secreto é maior!\n",
            "Adivinhe o número entre 1 e 100: 37\n",
            "O número secreto é menor!\n",
            "Adivinhe o número entre 1 e 100: 36\n",
            "Parabéns! Você acertou o número 36 em 6 tentativas.\n"
          ]
        }
      ],
      "source": [
        "import random\n",
        "\n",
        "def adivinha():\n",
        "    print(\"Bem-vindo ao jogo de adivinhação!\")\n",
        "    numero_secreto = random.randint(1, 100)\n",
        "    tentativas = 0\n",
        "\n",
        "    while True:\n",
        "        tentativa = int(input(\"Adivinhe o número entre 1 e 100: \"))\n",
        "        tentativas += 1\n",
        "\n",
        "        if tentativa < numero_secreto:\n",
        "            print(\"O número secreto é maior!\")\n",
        "        elif tentativa > numero_secreto:\n",
        "            print(\"O número secreto é menor!\")\n",
        "        else:\n",
        "            print(f\"Parabéns! Você acertou o número {numero_secreto} em {tentativas} tentativas.\")\n",
        "            break\n",
        "\n",
        "adivinha()"
      ]
    },
    {
      "cell_type": "code",
      "source": [],
      "metadata": {
        "id": "ogrWxX0CMYqg"
      },
      "execution_count": null,
      "outputs": []
    }
  ]
}