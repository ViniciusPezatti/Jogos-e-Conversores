{
  "nbformat": 4,
  "nbformat_minor": 0,
  "metadata": {
    "colab": {
      "provenance": [],
      "authorship_tag": "ABX9TyO3xJifwHzciFIlyEXvKgd0",
      "include_colab_link": true
    },
    "kernelspec": {
      "name": "python3",
      "display_name": "Python 3"
    },
    "language_info": {
      "name": "python"
    }
  },
  "cells": [
    {
      "cell_type": "markdown",
      "metadata": {
        "id": "view-in-github",
        "colab_type": "text"
      },
      "source": [
        "<a href=\"https://colab.research.google.com/github/ViniciusPezatti/Jogos-e-Conversores/blob/main/Calculadora_Simples.ipynb\" target=\"_parent\"><img src=\"https://colab.research.google.com/assets/colab-badge.svg\" alt=\"Open In Colab\"/></a>"
      ]
    },
    {
      "cell_type": "markdown",
      "source": [
        "Explicação:\n",
        "\n",
        "Esse código permite ao usuário escolher uma operação matemática e realizar o cálculo com dois números inseridos.\n",
        "Ideal para iniciantes que querem praticar if, input(), e operações matemáticas simples.\n"
      ],
      "metadata": {
        "id": "5LZXbnUuMjRT"
      }
    },
    {
      "cell_type": "code",
      "execution_count": 1,
      "metadata": {
        "colab": {
          "base_uri": "https://localhost:8080/"
        },
        "id": "NR7TElUSMVGf",
        "outputId": "4c55aa2b-2cdd-4298-bc21-dedbff98ba80"
      },
      "outputs": [
        {
          "output_type": "stream",
          "name": "stdout",
          "text": [
            "Bem-vindo à Calculadora Python!\n",
            "Escolha uma operação:\n",
            "1. Adição\n",
            "2. Subtração\n",
            "3. Multiplicação\n",
            "4. Divisão\n",
            "Digite o número da operação (1/2/3/4): 3\n",
            "Digite o primeiro número: 587\n",
            "Digite o segundo número: 1453\n",
            "587.0 * 1453.0 = 852911.0\n"
          ]
        }
      ],
      "source": [
        "def calculadora():\n",
        "    print(\"Bem-vindo à Calculadora Python!\")\n",
        "    print(\"Escolha uma operação:\")\n",
        "    print(\"1. Adição\")\n",
        "    print(\"2. Subtração\")\n",
        "    print(\"3. Multiplicação\")\n",
        "    print(\"4. Divisão\")\n",
        "\n",
        "    operacao = input(\"Digite o número da operação (1/2/3/4): \")\n",
        "\n",
        "    if operacao in ('1', '2', '3', '4'):\n",
        "        num1 = float(input(\"Digite o primeiro número: \"))\n",
        "        num2 = float(input(\"Digite o segundo número: \"))\n",
        "\n",
        "        if operacao == '1':\n",
        "            print(f\"{num1} + {num2} = {num1 + num2}\")\n",
        "        elif operacao == '2':\n",
        "            print(f\"{num1} - {num2} = {num1 - num2}\")\n",
        "        elif operacao == '3':\n",
        "            print(f\"{num1} * {num2} = {num1 * num2}\")\n",
        "        elif operacao == '4':\n",
        "            if num2 != 0:\n",
        "                print(f\"{num1} / {num2} = {num1 / num2}\")\n",
        "            else:\n",
        "                print(\"Erro: Divisão por zero não permitida.\")\n",
        "    else:\n",
        "        print(\"Operação inválida! Escolha entre 1, 2, 3 ou 4.\")\n",
        "\n",
        "calculadora()\n"
      ]
    },
    {
      "cell_type": "code",
      "source": [],
      "metadata": {
        "id": "ogrWxX0CMYqg"
      },
      "execution_count": null,
      "outputs": []
    }
  ]
}