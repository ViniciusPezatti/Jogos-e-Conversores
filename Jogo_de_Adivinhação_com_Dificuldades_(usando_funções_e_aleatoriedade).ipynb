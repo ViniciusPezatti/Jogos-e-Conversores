{
  "nbformat": 4,
  "nbformat_minor": 0,
  "metadata": {
    "colab": {
      "provenance": [],
      "authorship_tag": "ABX9TyPHSbFoQU2fy6EqLpMsxutp",
      "include_colab_link": true
    },
    "kernelspec": {
      "name": "python3",
      "display_name": "Python 3"
    },
    "language_info": {
      "name": "python"
    }
  },
  "cells": [
    {
      "cell_type": "markdown",
      "metadata": {
        "id": "view-in-github",
        "colab_type": "text"
      },
      "source": [
        "<a href=\"https://colab.research.google.com/github/ViniciusPezatti/Jogos-e-Conversores/blob/main/Jogo_de_Adivinha%C3%A7%C3%A3o_com_Dificuldades_(usando_fun%C3%A7%C3%B5es_e_aleatoriedade).ipynb\" target=\"_parent\"><img src=\"https://colab.research.google.com/assets/colab-badge.svg\" alt=\"Open In Colab\"/></a>"
      ]
    },
    {
      "cell_type": "markdown",
      "source": [
        "#Objetivo:\n",
        "\n",
        "Criar um jogo onde o computador escolhe um número aleatório dentro de um intervalo, e o jogador tem que adivinhar o número.\n",
        "\n",
        "O jogo deve ter três níveis de dificuldade (fácil, médio e difícil), e o número de tentativas será limitado de acordo com a dificuldade.\n",
        "\n",
        "\n",
        "#Desafio:\n",
        "\n",
        "Implementar lógica condicional para determinar a dificuldade, usar o módulo random para escolher o número aleatório, e criar um sistema que conte o número de tentativas feitas pelo jogador.\n",
        "\n",
        "O jogo deve fornecer dicas sobre se o número digitado está acima ou abaixo do número correto."
      ],
      "metadata": {
        "id": "pCxUZS6v6W9F"
      }
    },
    {
      "cell_type": "code",
      "execution_count": 1,
      "metadata": {
        "colab": {
          "base_uri": "https://localhost:8080/"
        },
        "id": "uXWPNW136RL_",
        "outputId": "33438048-61ae-4bc0-822f-0b03b26ffe94"
      },
      "outputs": [
        {
          "output_type": "stream",
          "name": "stdout",
          "text": [
            "Bem-vindo ao Jogo de Adivinhação!\n",
            "Escolha a dificuldade: 1 - Fácil, 2 - Médio, 3 - Difícil\n",
            "Digite o número da dificuldade (1/2/3): 2\n",
            "\n",
            "Eu escolhi um número entre 1 e 100. Você tem 7 tentativas.\n",
            "\n",
            "Digite seu palpite: 65\n",
            "O número é maior!\n",
            "Você ainda tem 6 tentativas.\n",
            "\n",
            "Digite seu palpite: 85\n",
            "O número é menor!\n",
            "Você ainda tem 5 tentativas.\n",
            "\n",
            "Digite seu palpite: 70\n",
            "O número é maior!\n",
            "Você ainda tem 4 tentativas.\n",
            "\n",
            "Digite seu palpite: 78\n",
            "O número é maior!\n",
            "Você ainda tem 3 tentativas.\n",
            "\n",
            "Digite seu palpite: 82\n",
            "O número é menor!\n",
            "Você ainda tem 2 tentativas.\n",
            "\n",
            "Digite seu palpite: 81\n",
            "Parabéns, você acertou!\n"
          ]
        }
      ],
      "source": [
        "import random\n",
        "\n",
        "def jogo_adivinhacao():\n",
        "    print(\"Bem-vindo ao Jogo de Adivinhação!\")\n",
        "    print(\"Escolha a dificuldade: 1 - Fácil, 2 - Médio, 3 - Difícil\")\n",
        "\n",
        "    dificuldade = int(input(\"Digite o número da dificuldade (1/2/3): \"))\n",
        "\n",
        "    if dificuldade == 1:\n",
        "        tentativas = 10\n",
        "        intervalo = 50\n",
        "    elif dificuldade == 2:\n",
        "        tentativas = 7\n",
        "        intervalo = 100\n",
        "    else:\n",
        "        tentativas = 5\n",
        "        intervalo = 200\n",
        "\n",
        "    numero_secreto = random.randint(1, intervalo)\n",
        "    print(f\"\\nEu escolhi um número entre 1 e {intervalo}. Você tem {tentativas} tentativas.\")\n",
        "\n",
        "    while tentativas > 0:\n",
        "        palpite = int(input(\"\\nDigite seu palpite: \"))\n",
        "\n",
        "        if palpite < numero_secreto:\n",
        "            print(\"O número é maior!\")\n",
        "        elif palpite > numero_secreto:\n",
        "            print(\"O número é menor!\")\n",
        "        else:\n",
        "            print(\"Parabéns, você acertou!\")\n",
        "            break\n",
        "\n",
        "        tentativas -= 1\n",
        "        print(f\"Você ainda tem {tentativas} tentativas.\")\n",
        "\n",
        "    if tentativas == 0:\n",
        "        print(f\"Você perdeu! O número era {numero_secreto}.\")\n",
        "\n",
        "jogo_adivinhacao()\n"
      ]
    },
    {
      "cell_type": "code",
      "source": [],
      "metadata": {
        "id": "aKD7O1Hk6lyG"
      },
      "execution_count": null,
      "outputs": []
    }
  ]
}