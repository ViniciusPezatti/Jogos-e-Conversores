{
  "nbformat": 4,
  "nbformat_minor": 0,
  "metadata": {
    "colab": {
      "provenance": [],
      "authorship_tag": "ABX9TyPwik8hO6DbBYqV6pbPSD8Z",
      "include_colab_link": true
    },
    "kernelspec": {
      "name": "python3",
      "display_name": "Python 3"
    },
    "language_info": {
      "name": "python"
    }
  },
  "cells": [
    {
      "cell_type": "markdown",
      "metadata": {
        "id": "view-in-github",
        "colab_type": "text"
      },
      "source": [
        "<a href=\"https://colab.research.google.com/github/ViniciusPezatti/Jogos-e-Conversores/blob/main/Jogo_da_Forca.ipynb\" target=\"_parent\"><img src=\"https://colab.research.google.com/assets/colab-badge.svg\" alt=\"Open In Colab\"/></a>"
      ]
    },
    {
      "cell_type": "markdown",
      "source": [
        "Explicação:\n",
        "\n",
        "O código simula o jogo da forca, onde o computador escolhe uma palavra e o usuário deve adivinhar.\n",
        "Ideal para iniciantes que desejam trabalhar com listas, strings, e controle de fluxo."
      ],
      "metadata": {
        "id": "5LZXbnUuMjRT"
      }
    },
    {
      "cell_type": "code",
      "execution_count": 4,
      "metadata": {
        "colab": {
          "base_uri": "https://localhost:8080/"
        },
        "id": "NR7TElUSMVGf",
        "outputId": "36352b55-3911-4b07-b013-4c6dd514e80f"
      },
      "outputs": [
        {
          "output_type": "stream",
          "name": "stdout",
          "text": [
            "Bem-vindo ao Jogo da Forca!\n",
            "Palavra:  _ _ _ _ _ _ _ _ _ _ _\n",
            "Digite uma letra: a\n",
            "Boa! A letra 'a' está na palavra.\n",
            "Palavra:  _ _ _ _ _ a _ a _ a _\n",
            "Digite uma letra: c\n",
            "Boa! A letra 'c' está na palavra.\n",
            "Palavra:  _ _ _ _ _ a _ a c a _\n",
            "Digite uma letra: r\n",
            "Boa! A letra 'r' está na palavra.\n",
            "Palavra:  _ r _ _ r a _ a c a _\n",
            "Digite uma letra: e\n",
            "Ops! A letra 'e' não está na palavra. Você tem 5 tentativas restantes.\n",
            "Palavra:  _ r _ _ r a _ a c a _\n",
            "Digite uma letra: i\n",
            "Ops! A letra 'i' não está na palavra. Você tem 4 tentativas restantes.\n",
            "Palavra:  _ r _ _ r a _ a c a _\n",
            "Digite uma letra: o\n",
            "Boa! A letra 'o' está na palavra.\n",
            "Palavra:  _ r o _ r a _ a c a o\n",
            "Digite uma letra: p\n",
            "Boa! A letra 'p' está na palavra.\n",
            "Palavra:  p r o _ r a _ a c a o\n",
            "Digite uma letra: g\n",
            "Boa! A letra 'g' está na palavra.\n",
            "Palavra:  p r o g r a _ a c a o\n",
            "Digite uma letra: m\n",
            "Boa! A letra 'm' está na palavra.\n",
            "Parabéns! Você adivinhou a palavra 'programacao'!\n"
          ]
        }
      ],
      "source": [
        "import random\n",
        "\n",
        "def jogo_da_forca():\n",
        "    palavras = [\"python\", \"programacao\", \"desenvolvimento\", \"algoritmo\", \"dados\"]\n",
        "    palavra_secreta = random.choice(palavras)\n",
        "    letras_descobertas = [\"_\"] * len(palavra_secreta)\n",
        "    tentativas = 6\n",
        "\n",
        "    print(\"Bem-vindo ao Jogo da Forca!\")\n",
        "\n",
        "    while tentativas > 0 and \"_\" in letras_descobertas:\n",
        "        print(\"Palavra: \", \" \".join(letras_descobertas))\n",
        "        letra = input(\"Digite uma letra: \").lower()\n",
        "\n",
        "        if letra in palavra_secreta:\n",
        "            for i in range(len(palavra_secreta)):\n",
        "                if palavra_secreta[i] == letra:\n",
        "                    letras_descobertas[i] = letra\n",
        "            print(f\"Boa! A letra '{letra}' está na palavra.\")\n",
        "        else:\n",
        "            tentativas -= 1\n",
        "            print(f\"Ops! A letra '{letra}' não está na palavra. Você tem {tentativas} tentativas restantes.\")\n",
        "\n",
        "    if \"_\" not in letras_descobertas:\n",
        "        print(f\"Parabéns! Você adivinhou a palavra '{palavra_secreta}'!\")\n",
        "    else:\n",
        "        print(f\"Você perdeu! A palavra era '{palavra_secreta}'.\")\n",
        "\n",
        "jogo_da_forca()\n"
      ]
    },
    {
      "cell_type": "code",
      "source": [],
      "metadata": {
        "id": "ogrWxX0CMYqg"
      },
      "execution_count": null,
      "outputs": []
    }
  ]
}